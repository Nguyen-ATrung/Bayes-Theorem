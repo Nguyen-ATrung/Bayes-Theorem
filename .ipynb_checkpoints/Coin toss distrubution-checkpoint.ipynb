{
 "cells": [
  {
   "cell_type": "code",
   "execution_count": 1,
   "metadata": {},
   "outputs": [],
   "source": [
    "# import libraries\n",
    "import random\n",
    "import matplotlib.pyplot as plt\n",
    "import seaborn as sns"
   ]
  },
  {
   "cell_type": "code",
   "execution_count": 2,
   "metadata": {},
   "outputs": [],
   "source": [
    "# define probability of getting head in coin_toss and the distribution\n",
    "\n",
    "global p_head = 0.5\n",
    "\n",
    "num_iter = 1000\n",
    "global distribution = [1/num_iter]*num_iter\n",
    "x = distribution.copy()"
   ]
  },
  {
   "cell_type": "code",
   "execution_count": 3,
   "metadata": {},
   "outputs": [],
   "source": [
    "# define a change in distribution for a coin_toss\n",
    "def coin_toss():\n",
    "    r = random.random()\n",
    "    if r > p_head:\n",
    "        for i in range(len(distribution)): \n",
    "            distribution[i] = distribution[i]*(1-p_head)\n",
    "    else:\n",
    "        for i in range(len(distribution)):\n",
    "            distribution[i] = distribution[i]*p_head"
   ]
  },
  {
   "cell_type": "code",
   "execution_count": null,
   "metadata": {},
   "outputs": [],
   "source": [
    "#plot the distribution\n",
    "plt.plot(distribution)"
   ]
  }
 ],
 "metadata": {
  "kernelspec": {
   "display_name": "Python 3",
   "language": "python",
   "name": "python3"
  },
  "language_info": {
   "codemirror_mode": {
    "name": "ipython",
    "version": 3
   },
   "file_extension": ".py",
   "mimetype": "text/x-python",
   "name": "python",
   "nbconvert_exporter": "python",
   "pygments_lexer": "ipython3",
   "version": "3.7.4"
  }
 },
 "nbformat": 4,
 "nbformat_minor": 2
}
